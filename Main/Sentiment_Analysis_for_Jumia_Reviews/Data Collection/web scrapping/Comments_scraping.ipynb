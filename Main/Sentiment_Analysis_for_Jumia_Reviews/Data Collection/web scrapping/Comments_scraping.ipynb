{
 "cells": [
  {
   "cell_type": "markdown",
   "id": "59539b94",
   "metadata": {},
   "source": [
    "<h1 style=\"color: green; text-align: center\">Comments Scraping from Jumia web site </h1>\n",
    "<hr width: 5px>\n",
    "<h3>✍ written by : </h3>\n",
    "<p><b>Maghouti</b> Aymane <br><b></b> Data engineering Student at the national school of applied sciences of alhociema <b>ENSAH</b></p>\n",
    "<p style=\"text-align: right;\"><b>23-December | <span style=\"color: red;\">2023</span></b></p>"
   ]
  },
  {
   "cell_type": "code",
   "execution_count": 1,
   "id": "be2feaa2",
   "metadata": {},
   "outputs": [
    {
     "name": "stdout",
     "output_type": "stream",
     "text": [
      "Requirement already satisfied: bs4 in c:\\users\\pc\\anaconda3\\lib\\site-packages (0.0.1)\n",
      "Requirement already satisfied: beautifulsoup4 in c:\\users\\pc\\anaconda3\\lib\\site-packages (from bs4) (4.11.1)\n",
      "Requirement already satisfied: soupsieve>1.2 in c:\\users\\pc\\anaconda3\\lib\\site-packages (from beautifulsoup4->bs4) (2.3.1)\n"
     ]
    }
   ],
   "source": [
    "!pip install bs4"
   ]
  },
  {
   "cell_type": "code",
   "execution_count": 1,
   "id": "c75209ec",
   "metadata": {},
   "outputs": [],
   "source": [
    "import requests\n",
    "from bs4 import BeautifulSoup\n",
    "import pandas as pd"
   ]
  },
  {
   "cell_type": "code",
   "execution_count": 2,
   "id": "56329f40",
   "metadata": {},
   "outputs": [],
   "source": [
    "links =[\n",
    "'https://www.jumia.com.ng/catalog/productratingsreviews/sku/SA948MP3LQFFANAFAMZ/'\n",
    "'https://www.jumia.com.ng/catalog/productratingsreviews/sku/SA948MP3LQFFANAFAMZ/?page=2',\n",
    "'https://www.jumia.com.ng/catalog/productratingsreviews/sku/SA948MP3LQFFANAFAMZ/?page=3',\n",
    "'https://www.jumia.com.ng/catalog/productratingsreviews/sku/SA948MP3LQFFANAFAMZ/?page=4',\n",
    "'https://www.jumia.com.ng/catalog/productratingsreviews/sku/SA948MP3LQFFANAFAMZ/?page=5',\n",
    "'https://www.jumia.com.ng/catalog/productratingsreviews/sku/SA948MP3EE4C1NAFAMZ/',\n",
    "'https://www.jumia.com.ng/catalog/productratingsreviews/sku/SA948MP4U8Y7DNAFAMZ/',\n",
    "'https://www.jumia.com.ng/catalog/productratingsreviews/sku/SA948MP4U8Y7DNAFAMZ/?page=2',\n",
    "'https://www.jumia.com.ng/catalog/productratingsreviews/sku/SA948MP4U8Y7DNAFAMZ/?page=3',\n",
    "'https://www.jumia.com.ng/catalog/productratingsreviews/sku/IT724MP41BT60NAFAMZ/',\n",
    "'https://www.jumia.com.ng/catalog/productratingsreviews/sku/IT724MP41BT60NAFAMZ/?page=2',\n",
    "'https://www.jumia.com.ng/catalog/productratingsreviews/sku/IT724MP41BT60NAFAMZ/?page=3',\n",
    "'https://www.jumia.com.ng/catalog/productratingsreviews/sku/IT724MP41BT60NAFAMZ/?page=4',\n",
    "'https://www.jumia.com.ng/catalog/productratingsreviews/sku/GO786MP3PNUGJNAFAMZ/',\n",
    "'https://www.jumia.com.ng/catalog/productratingsreviews/sku/ZE551EA32798TNAFAMZ/',\n",
    "'https://www.jumia.com.ng/catalog/productratingsreviews/sku/ZE551EA32798TNAFAMZ/?page=2',\n",
    "'https://www.jumia.com.ng/catalog/productratingsreviews/sku/ZE551EA32798TNAFAMZ/?page=3',\n",
    "'https://www.jumia.com.ng/catalog/productratingsreviews/sku/SA948MP1DNPJXNAFAMZ/',\n",
    "'https://www.jumia.com.ng/catalog/productratingsreviews/sku/SA948MP1DNPJXNAFAMZ/?page=2',\n",
    "'https://www.jumia.com.ng/catalog/productratingsreviews/sku/SA948MP1DNPJXNAFAMZ/?page=3',\n",
    "'https://www.jumia.com.ng/catalog/productratingsreviews/sku/GE779LB4I4YWTNAFAMZ/',\n",
    "'https://www.jumia.com.ng/catalog/productratingsreviews/sku/GE779LB0T58JCNAFAMZ/',\n",
    "'https://www.jumia.com.ng/catalog/productratingsreviews/sku/GE779LB0T58JCNAFAMZ/?page=2',\n",
    "'https://www.jumia.com.ng/catalog/productratingsreviews/sku/GE779LB2ENJ6NNAFAMZ/',\n",
    "'https://www.jumia.com.ng/catalog/productratingsreviews/sku/AK972LB24K3LUNAFAMZ/',\n",
    "'https://www.jumia.com.ng/catalog/productratingsreviews/sku/AP044CL154OC1NAFAMZ/',\n",
    "'https://www.jumia.com.ng/catalog/productratingsreviews/sku/JO521EA1VYV6INAFAMZ/',\n",
    "'https://www.jumia.com.ng/catalog/productratingsreviews/sku/JO521EA1VYV6INAFAMZ/?page=2',\n",
    "'https://www.jumia.com.ng/catalog/productratingsreviews/sku/JO521EA3OYAPRNAFAMZ/',\n",
    "'https://www.jumia.com.ng/catalog/productratingsreviews/sku/JO521EA3OYAPRNAFAMZ/?page=2',\n",
    "]\n",
    "data = []\n",
    "\n",
    "for link in links:\n",
    "    resp = requests.get(link)\n",
    "    html = resp.text\n",
    "\n",
    "    soup = BeautifulSoup(html, 'html.parser')\n",
    "\n",
    "    articles = soup.find_all('article', class_='-pvs -hr _bet')\n",
    "\n",
    "    for article in articles:\n",
    "        titre = article.find('h3').text\n",
    "        commentaire = article.find('p').text\n",
    "        date = article.find('span', class_='-prs').text\n",
    "        achat_verifie = \"Verified Purchase\" in article.find('div', class_='-df -i-ctr -gn5 -fsh0').text\n",
    "        rating = article.find('div',class_='stars _m _al -mvs').text\n",
    "        data.append({'Title': titre, 'Comments': commentaire, 'Date': date, 'Virified': achat_verifie,'Target':rating})\n",
    "\n",
    "df = pd.DataFrame(data)\n",
    "\n",
    "\n"
   ]
  },
  {
   "cell_type": "markdown",
   "id": "717d4323",
   "metadata": {},
   "source": [
    "### take the two columns (Comments & Target)"
   ]
  },
  {
   "cell_type": "code",
   "execution_count": 6,
   "id": "fa9ad819",
   "metadata": {},
   "outputs": [],
   "source": [
    "df = df [['Comments' , 'Target']]"
   ]
  },
  {
   "cell_type": "code",
   "execution_count": 7,
   "id": "4c62fc34",
   "metadata": {},
   "outputs": [],
   "source": [
    "df = df[df['Target']!= '3 out of 5']"
   ]
  },
  {
   "cell_type": "markdown",
   "id": "ffd5e6b2",
   "metadata": {},
   "source": [
    "###  Encoding Sentiments"
   ]
  },
  {
   "cell_type": "code",
   "execution_count": 8,
   "id": "75e847d0",
   "metadata": {},
   "outputs": [],
   "source": [
    "def coder(y):\n",
    "    if y == '1 out of 5' or  y == '2 out of 5':\n",
    "        return -1\n",
    "    else:\n",
    "        return 1"
   ]
  },
  {
   "cell_type": "code",
   "execution_count": 9,
   "id": "fbe68ec9",
   "metadata": {},
   "outputs": [],
   "source": [
    "df['Target']=df['Target'].apply(coder)"
   ]
  },
  {
   "cell_type": "code",
   "execution_count": 10,
   "id": "580f454a",
   "metadata": {},
   "outputs": [
    {
     "data": {
      "text/plain": [
       "array([1], dtype=int64)"
      ]
     },
     "execution_count": 10,
     "metadata": {},
     "output_type": "execute_result"
    }
   ],
   "source": [
    "df['Target'].unique()"
   ]
  },
  {
   "cell_type": "code",
   "execution_count": 31,
   "id": "e7d411fe",
   "metadata": {},
   "outputs": [
    {
     "data": {
      "text/plain": [
       "Comments    0\n",
       "Target      0\n",
       "dtype: int64"
      ]
     },
     "execution_count": 31,
     "metadata": {},
     "output_type": "execute_result"
    }
   ],
   "source": [
    "df.isna().sum()"
   ]
  },
  {
   "cell_type": "code",
   "execution_count": 32,
   "id": "a99bc82d",
   "metadata": {},
   "outputs": [],
   "source": [
    "df = df.dropna()"
   ]
  },
  {
   "cell_type": "code",
   "execution_count": 33,
   "id": "871e2aa7",
   "metadata": {},
   "outputs": [
    {
     "data": {
      "text/plain": [
       "Comments    0\n",
       "Target      0\n",
       "dtype: int64"
      ]
     },
     "execution_count": 33,
     "metadata": {},
     "output_type": "execute_result"
    }
   ],
   "source": [
    "df.isna().sum()"
   ]
  },
  {
   "cell_type": "code",
   "execution_count": 34,
   "id": "47c6f0a9",
   "metadata": {},
   "outputs": [
    {
     "data": {
      "text/plain": [
       "(3419, 2)"
      ]
     },
     "execution_count": 34,
     "metadata": {},
     "output_type": "execute_result"
    }
   ],
   "source": [
    "df.shape"
   ]
  },
  {
   "cell_type": "code",
   "execution_count": 35,
   "id": "6edf4cdc",
   "metadata": {},
   "outputs": [
    {
     "data": {
      "text/html": [
       "<div>\n",
       "<style scoped>\n",
       "    .dataframe tbody tr th:only-of-type {\n",
       "        vertical-align: middle;\n",
       "    }\n",
       "\n",
       "    .dataframe tbody tr th {\n",
       "        vertical-align: top;\n",
       "    }\n",
       "\n",
       "    .dataframe thead th {\n",
       "        text-align: right;\n",
       "    }\n",
       "</style>\n",
       "<table border=\"1\" class=\"dataframe\">\n",
       "  <thead>\n",
       "    <tr style=\"text-align: right;\">\n",
       "      <th></th>\n",
       "      <th>Comments</th>\n",
       "      <th>Target</th>\n",
       "    </tr>\n",
       "  </thead>\n",
       "  <tbody>\n",
       "    <tr>\n",
       "      <th>0</th>\n",
       "      <td>It's sleek and fine, Good for the price \\n</td>\n",
       "      <td>-1</td>\n",
       "    </tr>\n",
       "    <tr>\n",
       "      <th>1</th>\n",
       "      <td>Very good</td>\n",
       "      <td>-1</td>\n",
       "    </tr>\n",
       "    <tr>\n",
       "      <th>2</th>\n",
       "      <td>It's really a smart phone</td>\n",
       "      <td>-1</td>\n",
       "    </tr>\n",
       "    <tr>\n",
       "      <th>3</th>\n",
       "      <td>Nice phone</td>\n",
       "      <td>-1</td>\n",
       "    </tr>\n",
       "    <tr>\n",
       "      <th>4</th>\n",
       "      <td>Nice gadget, seriously enjoying the phone</td>\n",
       "      <td>-1</td>\n",
       "    </tr>\n",
       "  </tbody>\n",
       "</table>\n",
       "</div>"
      ],
      "text/plain": [
       "                                     Comments  Target\n",
       "0  It's sleek and fine, Good for the price \\n      -1\n",
       "1                                   Very good      -1\n",
       "2                   It's really a smart phone      -1\n",
       "3                                  Nice phone      -1\n",
       "4   Nice gadget, seriously enjoying the phone      -1"
      ]
     },
     "execution_count": 35,
     "metadata": {},
     "output_type": "execute_result"
    }
   ],
   "source": [
    "df.head()"
   ]
  },
  {
   "cell_type": "code",
   "execution_count": 30,
   "id": "eb592578",
   "metadata": {},
   "outputs": [
    {
     "data": {
      "text/plain": [
       "array([-1,  1], dtype=int64)"
      ]
     },
     "execution_count": 30,
     "metadata": {},
     "output_type": "execute_result"
    }
   ],
   "source": [
    "df['Target'].unique()"
   ]
  },
  {
   "cell_type": "markdown",
   "id": "98b0d61f",
   "metadata": {},
   "source": [
    "### save the dataframe as csv file"
   ]
  },
  {
   "cell_type": "code",
   "execution_count": 39,
   "id": "7ef27297",
   "metadata": {},
   "outputs": [],
   "source": [
    "df.to_csv('jumia_comments.csv',index=False)"
   ]
  }
 ],
 "metadata": {
  "kernelspec": {
   "display_name": "Python 3 (ipykernel)",
   "language": "python",
   "name": "python3"
  },
  "language_info": {
   "codemirror_mode": {
    "name": "ipython",
    "version": 3
   },
   "file_extension": ".py",
   "mimetype": "text/x-python",
   "name": "python",
   "nbconvert_exporter": "python",
   "pygments_lexer": "ipython3",
   "version": "3.9.12"
  }
 },
 "nbformat": 4,
 "nbformat_minor": 5
}
