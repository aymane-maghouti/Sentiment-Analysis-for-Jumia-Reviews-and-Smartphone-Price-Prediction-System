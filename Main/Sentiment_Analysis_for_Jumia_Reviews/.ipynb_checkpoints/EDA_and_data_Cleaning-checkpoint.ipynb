{
 "cells": [
  {
   "cell_type": "markdown",
   "id": "33c62d28",
   "metadata": {},
   "source": [
    "<h1 style=\"color: green; text-align: center\"> Exploratory Data Analysis (EDA) & Data Cleaning </h1>\n",
    "<hr width: 5px>\n",
    "<h3>✍ written by : </h3>\n",
    "<p><b>Maghouti</b> Aymane <br><b></b> Data engineering Student at the national school of applied sciences of alhociema <b>ENSAH</b></p>\n",
    "<p style=\"text-align: right;\"><b>23-December | <span style=\"color: red;\">2023</span></b></p>"
   ]
  },
  {
   "cell_type": "code",
   "execution_count": 3,
   "id": "9cc02670",
   "metadata": {},
   "outputs": [],
   "source": [
    "import pandas as pd \n",
    "import matplotlib.pyplot as plt\n",
    "import seaborn as sns"
   ]
  },
  {
   "cell_type": "code",
   "execution_count": 4,
   "id": "45d546fa",
   "metadata": {},
   "outputs": [],
   "source": [
    "df = pd.read_csv('final_data.csv',header=0)"
   ]
  },
  {
   "cell_type": "code",
   "execution_count": 41,
   "id": "7ee4f62d",
   "metadata": {},
   "outputs": [
    {
     "data": {
      "text/html": [
       "<div>\n",
       "<style scoped>\n",
       "    .dataframe tbody tr th:only-of-type {\n",
       "        vertical-align: middle;\n",
       "    }\n",
       "\n",
       "    .dataframe tbody tr th {\n",
       "        vertical-align: top;\n",
       "    }\n",
       "\n",
       "    .dataframe thead th {\n",
       "        text-align: right;\n",
       "    }\n",
       "</style>\n",
       "<table border=\"1\" class=\"dataframe\">\n",
       "  <thead>\n",
       "    <tr style=\"text-align: right;\">\n",
       "      <th></th>\n",
       "      <th>Comments</th>\n",
       "      <th>Target</th>\n",
       "    </tr>\n",
       "  </thead>\n",
       "  <tbody>\n",
       "    <tr>\n",
       "      <th>0</th>\n",
       "      <td>It's sleek and fine, Good for the price \\n</td>\n",
       "      <td>-1</td>\n",
       "    </tr>\n",
       "    <tr>\n",
       "      <th>1</th>\n",
       "      <td>Very good</td>\n",
       "      <td>-1</td>\n",
       "    </tr>\n",
       "    <tr>\n",
       "      <th>2</th>\n",
       "      <td>It's really a smart phone</td>\n",
       "      <td>-1</td>\n",
       "    </tr>\n",
       "    <tr>\n",
       "      <th>3</th>\n",
       "      <td>Nice phone</td>\n",
       "      <td>-1</td>\n",
       "    </tr>\n",
       "    <tr>\n",
       "      <th>4</th>\n",
       "      <td>Nice gadget, seriously enjoying the phone</td>\n",
       "      <td>-1</td>\n",
       "    </tr>\n",
       "  </tbody>\n",
       "</table>\n",
       "</div>"
      ],
      "text/plain": [
       "                                     Comments  Target\n",
       "0  It's sleek and fine, Good for the price \\n      -1\n",
       "1                                   Very good      -1\n",
       "2                   It's really a smart phone      -1\n",
       "3                                  Nice phone      -1\n",
       "4   Nice gadget, seriously enjoying the phone      -1"
      ]
     },
     "execution_count": 41,
     "metadata": {},
     "output_type": "execute_result"
    }
   ],
   "source": [
    "df.head()"
   ]
  },
  {
   "cell_type": "code",
   "execution_count": 42,
   "id": "d060c1d2",
   "metadata": {},
   "outputs": [
    {
     "name": "stdout",
     "output_type": "stream",
     "text": [
      "Index(['Comments', 'Target'], dtype='object')\n"
     ]
    }
   ],
   "source": [
    "print(df.columns)"
   ]
  },
  {
   "cell_type": "code",
   "execution_count": 43,
   "id": "680595e1",
   "metadata": {},
   "outputs": [
    {
     "name": "stdout",
     "output_type": "stream",
     "text": [
      "<class 'pandas.core.frame.DataFrame'>\n",
      "RangeIndex: 76539 entries, 0 to 76538\n",
      "Data columns (total 2 columns):\n",
      " #   Column    Non-Null Count  Dtype \n",
      "---  ------    --------------  ----- \n",
      " 0   Comments  76539 non-null  object\n",
      " 1   Target    76539 non-null  int64 \n",
      "dtypes: int64(1), object(1)\n",
      "memory usage: 1.2+ MB\n"
     ]
    }
   ],
   "source": [
    "df.info()"
   ]
  },
  {
   "cell_type": "code",
   "execution_count": 44,
   "id": "fad12e5f",
   "metadata": {},
   "outputs": [
    {
     "data": {
      "text/html": [
       "<div>\n",
       "<style scoped>\n",
       "    .dataframe tbody tr th:only-of-type {\n",
       "        vertical-align: middle;\n",
       "    }\n",
       "\n",
       "    .dataframe tbody tr th {\n",
       "        vertical-align: top;\n",
       "    }\n",
       "\n",
       "    .dataframe thead th {\n",
       "        text-align: right;\n",
       "    }\n",
       "</style>\n",
       "<table border=\"1\" class=\"dataframe\">\n",
       "  <thead>\n",
       "    <tr style=\"text-align: right;\">\n",
       "      <th></th>\n",
       "      <th>Target</th>\n",
       "    </tr>\n",
       "  </thead>\n",
       "  <tbody>\n",
       "    <tr>\n",
       "      <th>count</th>\n",
       "      <td>76539.000000</td>\n",
       "    </tr>\n",
       "    <tr>\n",
       "      <th>mean</th>\n",
       "      <td>0.455937</td>\n",
       "    </tr>\n",
       "    <tr>\n",
       "      <th>std</th>\n",
       "      <td>0.890018</td>\n",
       "    </tr>\n",
       "    <tr>\n",
       "      <th>min</th>\n",
       "      <td>-1.000000</td>\n",
       "    </tr>\n",
       "    <tr>\n",
       "      <th>25%</th>\n",
       "      <td>-1.000000</td>\n",
       "    </tr>\n",
       "    <tr>\n",
       "      <th>50%</th>\n",
       "      <td>1.000000</td>\n",
       "    </tr>\n",
       "    <tr>\n",
       "      <th>75%</th>\n",
       "      <td>1.000000</td>\n",
       "    </tr>\n",
       "    <tr>\n",
       "      <th>max</th>\n",
       "      <td>1.000000</td>\n",
       "    </tr>\n",
       "  </tbody>\n",
       "</table>\n",
       "</div>"
      ],
      "text/plain": [
       "             Target\n",
       "count  76539.000000\n",
       "mean       0.455937\n",
       "std        0.890018\n",
       "min       -1.000000\n",
       "25%       -1.000000\n",
       "50%        1.000000\n",
       "75%        1.000000\n",
       "max        1.000000"
      ]
     },
     "execution_count": 44,
     "metadata": {},
     "output_type": "execute_result"
    }
   ],
   "source": [
    "df.describe()"
   ]
  },
  {
   "cell_type": "code",
   "execution_count": 45,
   "id": "d6de5fdf",
   "metadata": {},
   "outputs": [
    {
     "data": {
      "text/plain": [
       "Comments    0\n",
       "Target      0\n",
       "dtype: int64"
      ]
     },
     "execution_count": 45,
     "metadata": {},
     "output_type": "execute_result"
    }
   ],
   "source": [
    "df.isnull().sum()"
   ]
  },
  {
   "cell_type": "markdown",
   "id": "b427437d",
   "metadata": {},
   "source": [
    "## The distribution of classes"
   ]
  },
  {
   "cell_type": "code",
   "execution_count": 6,
   "id": "613bfc26",
   "metadata": {},
   "outputs": [
    {
     "data": {
      "image/png": "[encoded data removed]",
      "text/plain": [
       "<Figure size 432x288 with 1 Axes>"
      ]
     },
     "metadata": {
      "needs_background": "light"
     },
     "output_type": "display_data"
    }
   ],
   "source": [
    "sns.countplot(x='Target', data=df)\n",
    "plt.title('Distribution of classes')\n",
    "plt.show()"
   ]
  },
  {
   "cell_type": "markdown",
   "id": "380b23dd",
   "metadata": {},
   "source": [
    "## Comments length "
   ]
  },
  {
   "cell_type": "code",
   "execution_count": 5,
   "id": "559de7c8",
   "metadata": {},
   "outputs": [
    {
     "data": {
      "image/png": "[encoded data removed]",
      "text/plain": [
       "<Figure size 432x288 with 1 Axes>"
      ]
     },
     "metadata": {
      "needs_background": "light"
     },
     "output_type": "display_data"
    }
   ],
   "source": [
    "df['Comment_Length'] = df['Comments'].apply(len)\n",
    "sns.histplot(df, x='Comment_Length', bins=30)                                                               \n",
    "plt.title('Distribution of Comment Length ')\n",
    "plt.show()"
   ]
  },
  {
   "cell_type": "markdown",
   "id": "65f35651",
   "metadata": {},
   "source": [
    "# 1. Boxplot of Comment Length by Target:"
   ]
  },
  {
   "cell_type": "markdown",
   "id": "fab80b6c",
   "metadata": {},
   "source": [
    "Show the distribution of comment lengths for each target class."
   ]
  },
  {
   "cell_type": "code",
   "execution_count": 48,
   "id": "ae9041e9",
   "metadata": {},
   "outputs": [
    {
     "data": {
      "image/png": "[encoded data removed]",
      "text/plain": [
       "<Figure size 432x288 with 1 Axes>"
      ]
     },
     "metadata": {
      "needs_background": "light"
     },
     "output_type": "display_data"
    }
   ],
   "source": [
    "sns.boxplot(x='Target', y='Comment_Length', data=df, showfliers=False, showmeans=True)\n",
    "plt.title('Boxplot of Comment Length by Target')\n",
    "\n",
    "medians = df.groupby('Target')['Comment_Length'].median().values\n",
    "q1s = df.groupby('Target')['Comment_Length'].quantile(0.25).values\n",
    "q3s = df.groupby('Target')['Comment_Length'].quantile(0.75).values\n",
    "\n",
    "for i in range(len(medians)):\n",
    "    plt.text(i, medians[i], f'Median: {medians[i]}', ha='center', va='bottom', fontweight='bold', color='blue')\n",
    "    plt.text(i, q1s[i], f'Q1: {q1s[i]}', ha='center', va='bottom', fontweight='bold', color='green')\n",
    "    plt.text(i, q3s[i], f'Q3: {q3s[i]}', ha='center', va='bottom', fontweight='bold', color='red')\n",
    "\n",
    "plt.show()"
   ]
  },
  {
   "cell_type": "markdown",
   "id": "002e5ef3",
   "metadata": {},
   "source": [
    "# 3. Bar Plot of Average Comment Length by Target:"
   ]
  },
  {
   "cell_type": "markdown",
   "id": "ca09122a",
   "metadata": {},
   "source": [
    "Display the average comment length for each target class."
   ]
  },
  {
   "cell_type": "code",
   "execution_count": 49,
   "id": "2d9cfe7c",
   "metadata": {},
   "outputs": [
    {
     "data": {
      "image/png": "[encoded data removed]",
      "text/plain": [
       "<Figure size 432x288 with 1 Axes>"
      ]
     },
     "metadata": {
      "needs_background": "light"
     },
     "output_type": "display_data"
    }
   ],
   "source": [
    "avg_length_by_target = df.groupby('Target')['Comment_Length'].mean()\n",
    "avg_length_by_target.plot(kind='bar', color=['green', 'red'])\n",
    "plt.title('Average Comment Length by Target')\n",
    "plt.ylabel('Average Comment Length')\n",
    "plt.show()"
   ]
  },
  {
   "cell_type": "markdown",
   "id": "94b2ce29",
   "metadata": {},
   "source": [
    "# 6. Word Frequency Bar Plot:"
   ]
  },
  {
   "cell_type": "markdown",
   "id": "80387271",
   "metadata": {},
   "source": [
    "Display the frequency of the most common words in the comments."
   ]
  },
  {
   "cell_type": "code",
   "execution_count": 50,
   "id": "a1abd44a",
   "metadata": {},
   "outputs": [
    {
     "data": {
      "image/png": "[encoded data removed]",
      "text/plain": [
       "<Figure size 432x288 with 1 Axes>"
      ]
     },
     "metadata": {
      "needs_background": "light"
     },
     "output_type": "display_data"
    }
   ],
   "source": [
    "from collections import Counter\n",
    "words = ' '.join(df['Comments']).split()\n",
    "word_freq = Counter(words)\n",
    "\n",
    "common_words = word_freq.most_common(10)  \n",
    "common_words_df = pd.DataFrame(common_words, columns=['Word', 'Frequency'])\n",
    "\n",
    "sns.barplot(x='Word', y='Frequency', data=common_words_df)\n",
    "plt.title('Top 10 Most Common Words in Comments')\n",
    "plt.show()"
   ]
  },
  {
   "cell_type": "markdown",
   "id": "0d650a5f",
   "metadata": {},
   "source": [
    "# Data  Cleaning"
   ]
  },
  {
   "cell_type": "markdown",
   "id": "fe00c32b",
   "metadata": {},
   "source": [
    "## 1.Remove stop words (the , a , et , de .....)"
   ]
  },
  {
   "cell_type": "code",
   "execution_count": 51,
   "id": "fbb3d9d0",
   "metadata": {},
   "outputs": [],
   "source": [
    "from nltk.corpus import stopwords"
   ]
  },
  {
   "cell_type": "markdown",
   "id": "8d5f1c26",
   "metadata": {},
   "source": [
    "- Function to clean and remove stop words with english\n"
   ]
  },
  {
   "cell_type": "code",
   "execution_count": 52,
   "id": "c9a6cc00",
   "metadata": {},
   "outputs": [],
   "source": [
    "def clean_text_eng(comment):\n",
    "    stop_words = set(stopwords.words('english'))  \n",
    "    words = comment.split()\n",
    "    cleaned_words = [word.lower() for word in words if word.lower() not in stop_words]\n",
    "    return ' '.join(cleaned_words)"
   ]
  },
  {
   "cell_type": "code",
   "execution_count": 53,
   "id": "a6ddf82f",
   "metadata": {},
   "outputs": [],
   "source": [
    "df['Comments'] = df['Comments'].apply(clean_text_eng)"
   ]
  },
  {
   "cell_type": "markdown",
   "id": "1d18d3ea",
   "metadata": {},
   "source": [
    "Display the frequency of the most common words in the comments after removing the stop words."
   ]
  },
  {
   "cell_type": "code",
   "execution_count": 54,
   "id": "2283ec8a",
   "metadata": {},
   "outputs": [
    {
     "data": {
      "image/png": "[encoded data removed]",
      "text/plain": [
       "<Figure size 432x288 with 1 Axes>"
      ]
     },
     "metadata": {
      "needs_background": "light"
     },
     "output_type": "display_data"
    }
   ],
   "source": [
    "words = ' '.join(df['Comments']).split()\n",
    "word_freq = Counter(words)\n",
    "\n",
    "common_words = word_freq.most_common(10)  \n",
    "common_words_df = pd.DataFrame(common_words, columns=['Word', 'Frequency'])\n",
    "\n",
    "sns.barplot(x='Word', y='Frequency', data=common_words_df)\n",
    "plt.title('Top 10 Most Common Words in Comments')\n",
    "plt.show()"
   ]
  },
  {
   "cell_type": "code",
   "execution_count": 55,
   "id": "d801b778",
   "metadata": {},
   "outputs": [
    {
     "data": {
      "text/html": [
       "<div>\n",
       "<style scoped>\n",
       "    .dataframe tbody tr th:only-of-type {\n",
       "        vertical-align: middle;\n",
       "    }\n",
       "\n",
       "    .dataframe tbody tr th {\n",
       "        vertical-align: top;\n",
       "    }\n",
       "\n",
       "    .dataframe thead th {\n",
       "        text-align: right;\n",
       "    }\n",
       "</style>\n",
       "<table border=\"1\" class=\"dataframe\">\n",
       "  <thead>\n",
       "    <tr style=\"text-align: right;\">\n",
       "      <th></th>\n",
       "      <th>Comments</th>\n",
       "      <th>Target</th>\n",
       "      <th>Comment_Length</th>\n",
       "    </tr>\n",
       "  </thead>\n",
       "  <tbody>\n",
       "    <tr>\n",
       "      <th>0</th>\n",
       "      <td>sleek fine, good price</td>\n",
       "      <td>-1</td>\n",
       "      <td>41</td>\n",
       "    </tr>\n",
       "    <tr>\n",
       "      <th>1</th>\n",
       "      <td>good</td>\n",
       "      <td>-1</td>\n",
       "      <td>9</td>\n",
       "    </tr>\n",
       "    <tr>\n",
       "      <th>2</th>\n",
       "      <td>really smart phone</td>\n",
       "      <td>-1</td>\n",
       "      <td>25</td>\n",
       "    </tr>\n",
       "    <tr>\n",
       "      <th>3</th>\n",
       "      <td>nice phone</td>\n",
       "      <td>-1</td>\n",
       "      <td>10</td>\n",
       "    </tr>\n",
       "    <tr>\n",
       "      <th>4</th>\n",
       "      <td>nice gadget, seriously enjoying phone</td>\n",
       "      <td>-1</td>\n",
       "      <td>41</td>\n",
       "    </tr>\n",
       "  </tbody>\n",
       "</table>\n",
       "</div>"
      ],
      "text/plain": [
       "                                Comments  Target  Comment_Length\n",
       "0                 sleek fine, good price      -1              41\n",
       "1                                   good      -1               9\n",
       "2                     really smart phone      -1              25\n",
       "3                             nice phone      -1              10\n",
       "4  nice gadget, seriously enjoying phone      -1              41"
      ]
     },
     "execution_count": 55,
     "metadata": {},
     "output_type": "execute_result"
    }
   ],
   "source": [
    "df.head()"
   ]
  },
  {
   "cell_type": "markdown",
   "id": "51b17350",
   "metadata": {},
   "source": [
    "# 1. Lowercasing:"
   ]
  },
  {
   "cell_type": "markdown",
   "id": "85da8a40",
   "metadata": {},
   "source": [
    "Convert all text to lowercase to ensure consistency."
   ]
  },
  {
   "cell_type": "code",
   "execution_count": 56,
   "id": "4c8fb090",
   "metadata": {},
   "outputs": [],
   "source": [
    "df['Comments'] = df['Comments'].str.lower()"
   ]
  },
  {
   "cell_type": "code",
   "execution_count": 57,
   "id": "d0638621",
   "metadata": {},
   "outputs": [
    {
     "data": {
      "text/html": [
       "<div>\n",
       "<style scoped>\n",
       "    .dataframe tbody tr th:only-of-type {\n",
       "        vertical-align: middle;\n",
       "    }\n",
       "\n",
       "    .dataframe tbody tr th {\n",
       "        vertical-align: top;\n",
       "    }\n",
       "\n",
       "    .dataframe thead th {\n",
       "        text-align: right;\n",
       "    }\n",
       "</style>\n",
       "<table border=\"1\" class=\"dataframe\">\n",
       "  <thead>\n",
       "    <tr style=\"text-align: right;\">\n",
       "      <th></th>\n",
       "      <th>Comments</th>\n",
       "      <th>Target</th>\n",
       "      <th>Comment_Length</th>\n",
       "    </tr>\n",
       "  </thead>\n",
       "  <tbody>\n",
       "    <tr>\n",
       "      <th>0</th>\n",
       "      <td>sleek fine, good price</td>\n",
       "      <td>-1</td>\n",
       "      <td>41</td>\n",
       "    </tr>\n",
       "    <tr>\n",
       "      <th>1</th>\n",
       "      <td>good</td>\n",
       "      <td>-1</td>\n",
       "      <td>9</td>\n",
       "    </tr>\n",
       "    <tr>\n",
       "      <th>2</th>\n",
       "      <td>really smart phone</td>\n",
       "      <td>-1</td>\n",
       "      <td>25</td>\n",
       "    </tr>\n",
       "    <tr>\n",
       "      <th>3</th>\n",
       "      <td>nice phone</td>\n",
       "      <td>-1</td>\n",
       "      <td>10</td>\n",
       "    </tr>\n",
       "    <tr>\n",
       "      <th>4</th>\n",
       "      <td>nice gadget, seriously enjoying phone</td>\n",
       "      <td>-1</td>\n",
       "      <td>41</td>\n",
       "    </tr>\n",
       "  </tbody>\n",
       "</table>\n",
       "</div>"
      ],
      "text/plain": [
       "                                Comments  Target  Comment_Length\n",
       "0                 sleek fine, good price      -1              41\n",
       "1                                   good      -1               9\n",
       "2                     really smart phone      -1              25\n",
       "3                             nice phone      -1              10\n",
       "4  nice gadget, seriously enjoying phone      -1              41"
      ]
     },
     "execution_count": 57,
     "metadata": {},
     "output_type": "execute_result"
    }
   ],
   "source": [
    "df.head()"
   ]
  },
  {
   "cell_type": "code",
   "execution_count": 58,
   "id": "b564251e",
   "metadata": {},
   "outputs": [],
   "source": [
    "df = df.drop_duplicates(subset=['Comments'])"
   ]
  },
  {
   "cell_type": "code",
   "execution_count": 59,
   "id": "c8415857",
   "metadata": {},
   "outputs": [
    {
     "data": {
      "text/html": [
       "<div>\n",
       "<style scoped>\n",
       "    .dataframe tbody tr th:only-of-type {\n",
       "        vertical-align: middle;\n",
       "    }\n",
       "\n",
       "    .dataframe tbody tr th {\n",
       "        vertical-align: top;\n",
       "    }\n",
       "\n",
       "    .dataframe thead th {\n",
       "        text-align: right;\n",
       "    }\n",
       "</style>\n",
       "<table border=\"1\" class=\"dataframe\">\n",
       "  <thead>\n",
       "    <tr style=\"text-align: right;\">\n",
       "      <th></th>\n",
       "      <th>Comments</th>\n",
       "      <th>Target</th>\n",
       "      <th>Comment_Length</th>\n",
       "    </tr>\n",
       "  </thead>\n",
       "  <tbody>\n",
       "    <tr>\n",
       "      <th>0</th>\n",
       "      <td>sleek fine, good price</td>\n",
       "      <td>-1</td>\n",
       "      <td>41</td>\n",
       "    </tr>\n",
       "    <tr>\n",
       "      <th>1</th>\n",
       "      <td>good</td>\n",
       "      <td>-1</td>\n",
       "      <td>9</td>\n",
       "    </tr>\n",
       "    <tr>\n",
       "      <th>2</th>\n",
       "      <td>really smart phone</td>\n",
       "      <td>-1</td>\n",
       "      <td>25</td>\n",
       "    </tr>\n",
       "    <tr>\n",
       "      <th>3</th>\n",
       "      <td>nice phone</td>\n",
       "      <td>-1</td>\n",
       "      <td>10</td>\n",
       "    </tr>\n",
       "    <tr>\n",
       "      <th>4</th>\n",
       "      <td>nice gadget, seriously enjoying phone</td>\n",
       "      <td>-1</td>\n",
       "      <td>41</td>\n",
       "    </tr>\n",
       "  </tbody>\n",
       "</table>\n",
       "</div>"
      ],
      "text/plain": [
       "                                Comments  Target  Comment_Length\n",
       "0                 sleek fine, good price      -1              41\n",
       "1                                   good      -1               9\n",
       "2                     really smart phone      -1              25\n",
       "3                             nice phone      -1              10\n",
       "4  nice gadget, seriously enjoying phone      -1              41"
      ]
     },
     "execution_count": 59,
     "metadata": {},
     "output_type": "execute_result"
    }
   ],
   "source": [
    "df.head()"
   ]
  },
  {
   "cell_type": "code",
   "execution_count": 60,
   "id": "7b8447b0",
   "metadata": {},
   "outputs": [
    {
     "data": {
      "text/plain": [
       "(50396, 3)"
      ]
     },
     "execution_count": 60,
     "metadata": {},
     "output_type": "execute_result"
    }
   ],
   "source": [
    "df.shape"
   ]
  },
  {
   "cell_type": "markdown",
   "id": "ef04b927",
   "metadata": {},
   "source": [
    "# 2. Removing Punctuation:"
   ]
  },
  {
   "cell_type": "markdown",
   "id": "763224b4",
   "metadata": {},
   "source": [
    "Remove punctuation from text."
   ]
  },
  {
   "cell_type": "code",
   "execution_count": 61,
   "id": "52dc6cc8",
   "metadata": {},
   "outputs": [],
   "source": [
    "import string\n",
    "df['Comments'] = df['Comments'].apply(lambda x: x.translate(str.maketrans('', '', string.punctuation)))"
   ]
  },
  {
   "cell_type": "code",
   "execution_count": 62,
   "id": "d5d03713",
   "metadata": {},
   "outputs": [
    {
     "data": {
      "text/html": [
       "<div>\n",
       "<style scoped>\n",
       "    .dataframe tbody tr th:only-of-type {\n",
       "        vertical-align: middle;\n",
       "    }\n",
       "\n",
       "    .dataframe tbody tr th {\n",
       "        vertical-align: top;\n",
       "    }\n",
       "\n",
       "    .dataframe thead th {\n",
       "        text-align: right;\n",
       "    }\n",
       "</style>\n",
       "<table border=\"1\" class=\"dataframe\">\n",
       "  <thead>\n",
       "    <tr style=\"text-align: right;\">\n",
       "      <th></th>\n",
       "      <th>Comments</th>\n",
       "      <th>Target</th>\n",
       "      <th>Comment_Length</th>\n",
       "    </tr>\n",
       "  </thead>\n",
       "  <tbody>\n",
       "    <tr>\n",
       "      <th>0</th>\n",
       "      <td>sleek fine good price</td>\n",
       "      <td>-1</td>\n",
       "      <td>41</td>\n",
       "    </tr>\n",
       "    <tr>\n",
       "      <th>1</th>\n",
       "      <td>good</td>\n",
       "      <td>-1</td>\n",
       "      <td>9</td>\n",
       "    </tr>\n",
       "    <tr>\n",
       "      <th>2</th>\n",
       "      <td>really smart phone</td>\n",
       "      <td>-1</td>\n",
       "      <td>25</td>\n",
       "    </tr>\n",
       "    <tr>\n",
       "      <th>3</th>\n",
       "      <td>nice phone</td>\n",
       "      <td>-1</td>\n",
       "      <td>10</td>\n",
       "    </tr>\n",
       "    <tr>\n",
       "      <th>4</th>\n",
       "      <td>nice gadget seriously enjoying phone</td>\n",
       "      <td>-1</td>\n",
       "      <td>41</td>\n",
       "    </tr>\n",
       "  </tbody>\n",
       "</table>\n",
       "</div>"
      ],
      "text/plain": [
       "                               Comments  Target  Comment_Length\n",
       "0                 sleek fine good price      -1              41\n",
       "1                                  good      -1               9\n",
       "2                    really smart phone      -1              25\n",
       "3                            nice phone      -1              10\n",
       "4  nice gadget seriously enjoying phone      -1              41"
      ]
     },
     "execution_count": 62,
     "metadata": {},
     "output_type": "execute_result"
    }
   ],
   "source": [
    "df.head()"
   ]
  },
  {
   "cell_type": "markdown",
   "id": "4370428b",
   "metadata": {},
   "source": [
    "# 3. Removing Numbers:"
   ]
  },
  {
   "cell_type": "markdown",
   "id": "a3cde53a",
   "metadata": {},
   "source": [
    "Remove numerical digits."
   ]
  },
  {
   "cell_type": "code",
   "execution_count": 63,
   "id": "7ae2576a",
   "metadata": {},
   "outputs": [],
   "source": [
    "df['Comments'] = df['Comments'].apply(lambda x: ''.join([i for i in x if not i.isdigit()]))"
   ]
  },
  {
   "cell_type": "markdown",
   "id": "9ee2869a",
   "metadata": {},
   "source": [
    "# 4. Removing Extra Whitespace:"
   ]
  },
  {
   "cell_type": "markdown",
   "id": "39428331",
   "metadata": {},
   "source": [
    "Remove extra whitespaces."
   ]
  },
  {
   "cell_type": "code",
   "execution_count": 64,
   "id": "4d0b5af3",
   "metadata": {},
   "outputs": [],
   "source": [
    "df['Comments'] = df['Comments'].apply(lambda x: ' '.join(x.split()))"
   ]
  },
  {
   "cell_type": "markdown",
   "id": "b304e83d",
   "metadata": {},
   "source": [
    "# 5. Lemmatization:"
   ]
  },
  {
   "cell_type": "markdown",
   "id": "bbf6e3a6",
   "metadata": {},
   "source": [
    "Reduce words to their base or root form."
   ]
  },
  {
   "cell_type": "code",
   "execution_count": 65,
   "id": "669544e1",
   "metadata": {},
   "outputs": [],
   "source": [
    "import nltk\n",
    "from nltk.stem import WordNetLemmatizer\n",
    "# nltk.download('wordnet')\n",
    "                                                                                                                     \n",
    "lemmatizer = WordNetLemmatizer()                                                                                                                                                                               \n",
    "ds['Comments'] = ds['Comments'].apply(lambda x: ' '.join([lemmatizer.lemmatize(word) for word in x.split()]))"
   ]
  },
  {
   "cell_type": "code",
   "execution_count": 66,
   "id": "4cd83fe7",
   "metadata": {},
   "outputs": [
    {
     "data": {
      "text/html": [
       "<div>\n",
       "<style scoped>\n",
       "    .dataframe tbody tr th:only-of-type {\n",
       "        vertical-align: middle;\n",
       "    }\n",
       "\n",
       "    .dataframe tbody tr th {\n",
       "        vertical-align: top;\n",
       "    }\n",
       "\n",
       "    .dataframe thead th {\n",
       "        text-align: right;\n",
       "    }\n",
       "</style>\n",
       "<table border=\"1\" class=\"dataframe\">\n",
       "  <thead>\n",
       "    <tr style=\"text-align: right;\">\n",
       "      <th></th>\n",
       "      <th>Comments</th>\n",
       "      <th>Target</th>\n",
       "      <th>Comment_Length</th>\n",
       "    </tr>\n",
       "  </thead>\n",
       "  <tbody>\n",
       "    <tr>\n",
       "      <th>0</th>\n",
       "      <td>service jumia</td>\n",
       "      <td>-1</td>\n",
       "      <td>25</td>\n",
       "    </tr>\n",
       "    <tr>\n",
       "      <th>1</th>\n",
       "      <td>thats bad surprise</td>\n",
       "      <td>-1</td>\n",
       "      <td>36</td>\n",
       "    </tr>\n",
       "    <tr>\n",
       "      <th>2</th>\n",
       "      <td>comfortable highly recommend</td>\n",
       "      <td>-1</td>\n",
       "      <td>39</td>\n",
       "    </tr>\n",
       "    <tr>\n",
       "      <th>3</th>\n",
       "      <td>perfect</td>\n",
       "      <td>-1</td>\n",
       "      <td>7</td>\n",
       "    </tr>\n",
       "    <tr>\n",
       "      <th>4</th>\n",
       "      <td>little</td>\n",
       "      <td>-1</td>\n",
       "      <td>58</td>\n",
       "    </tr>\n",
       "  </tbody>\n",
       "</table>\n",
       "</div>"
      ],
      "text/plain": [
       "                       Comments  Target  Comment_Length\n",
       "0                 service jumia      -1              25\n",
       "1            thats bad surprise      -1              36\n",
       "2  comfortable highly recommend      -1              39\n",
       "3                       perfect      -1               7\n",
       "4                        little      -1              58"
      ]
     },
     "execution_count": 66,
     "metadata": {},
     "output_type": "execute_result"
    }
   ],
   "source": [
    "ds.head()"
   ]
  },
  {
   "cell_type": "markdown",
   "id": "856ccc01",
   "metadata": {},
   "source": [
    "# 6. Removing Rare Words:\n",
    "Remove words that occur very infrequently."
   ]
  },
  {
   "cell_type": "code",
   "execution_count": 67,
   "id": "ddbe7663",
   "metadata": {},
   "outputs": [],
   "source": [
    "word_frequency_threshold = 2  \n",
    "word_counts = df['Comments'].str.split(expand=True).stack().value_counts()\n",
    "rare_words = word_counts[word_counts <= word_frequency_threshold].index\n",
    "df['Comments'] = df['Comments'].apply(lambda x: ' '.join([word for word in x.split() if word not in rare_words]))"
   ]
  },
  {
   "cell_type": "code",
   "execution_count": 68,
   "id": "591710b1",
   "metadata": {},
   "outputs": [
    {
     "data": {
      "text/html": [
       "<div>\n",
       "<style scoped>\n",
       "    .dataframe tbody tr th:only-of-type {\n",
       "        vertical-align: middle;\n",
       "    }\n",
       "\n",
       "    .dataframe tbody tr th {\n",
       "        vertical-align: top;\n",
       "    }\n",
       "\n",
       "    .dataframe thead th {\n",
       "        text-align: right;\n",
       "    }\n",
       "</style>\n",
       "<table border=\"1\" class=\"dataframe\">\n",
       "  <thead>\n",
       "    <tr style=\"text-align: right;\">\n",
       "      <th></th>\n",
       "      <th>Comments</th>\n",
       "      <th>Target</th>\n",
       "      <th>Comment_Length</th>\n",
       "    </tr>\n",
       "  </thead>\n",
       "  <tbody>\n",
       "    <tr>\n",
       "      <th>0</th>\n",
       "      <td>sleek fine good price</td>\n",
       "      <td>-1</td>\n",
       "      <td>41</td>\n",
       "    </tr>\n",
       "    <tr>\n",
       "      <th>1</th>\n",
       "      <td>good</td>\n",
       "      <td>-1</td>\n",
       "      <td>9</td>\n",
       "    </tr>\n",
       "    <tr>\n",
       "      <th>2</th>\n",
       "      <td>really smart phone</td>\n",
       "      <td>-1</td>\n",
       "      <td>25</td>\n",
       "    </tr>\n",
       "    <tr>\n",
       "      <th>3</th>\n",
       "      <td>nice phone</td>\n",
       "      <td>-1</td>\n",
       "      <td>10</td>\n",
       "    </tr>\n",
       "    <tr>\n",
       "      <th>4</th>\n",
       "      <td>nice gadget seriously enjoying phone</td>\n",
       "      <td>-1</td>\n",
       "      <td>41</td>\n",
       "    </tr>\n",
       "  </tbody>\n",
       "</table>\n",
       "</div>"
      ],
      "text/plain": [
       "                               Comments  Target  Comment_Length\n",
       "0                 sleek fine good price      -1              41\n",
       "1                                  good      -1               9\n",
       "2                    really smart phone      -1              25\n",
       "3                            nice phone      -1              10\n",
       "4  nice gadget seriously enjoying phone      -1              41"
      ]
     },
     "execution_count": 68,
     "metadata": {},
     "output_type": "execute_result"
    }
   ],
   "source": [
    "df.head()"
   ]
  },
  {
   "cell_type": "markdown",
   "id": "e015ccba",
   "metadata": {},
   "source": [
    "# 7. expand contractions"
   ]
  },
  {
   "cell_type": "markdown",
   "id": "afee4b10",
   "metadata": {},
   "source": [
    "- Converting shortened or contracted forms of words into their full, original forms. For example, converting \"don't\" to \"do not\" "
   ]
  },
  {
   "cell_type": "code",
   "execution_count": 69,
   "id": "c9a7249a",
   "metadata": {},
   "outputs": [],
   "source": [
    "contractions_dict = {\n",
    "    \"it's\": \"it is\",\n",
    "    \"i'm\": \"i am\",\n",
    "    \"don't\": \"do not\",\n",
    "    \"won't\": \"will not\",\n",
    "    \"can't\": \"cannot\",\n",
    "    \"I'll\": \"I will\",\n",
    "    \"you're\": \"you are\",\n",
    "    \"he's\": \"he is\",\n",
    "    \"she's\": \"she is\",\n",
    "    \"we're\": \"we are\",\n",
    "    \"they're\": \"they are\",\n",
    "    \"isn't\": \"is not\",\n",
    "    \"aren't\": \"are not\",\n",
    "    \"wasn't\": \"was not\",\n",
    "    \"weren't\": \"were not\",\n",
    "    \"haven't\": \"have not\",\n",
    "    \"hasn't\": \"has not\",\n",
    "    \"hadn't\": \"had not\",\n",
    "    \"could've\": \"could have\",\n",
    "    \"should've\": \"should have\",\n",
    "    \"would've\": \"would have\",\n",
    "    \"didn't\": \"did not\",\n",
    "}\n",
    "\n",
    "\n",
    "\n",
    "def expand_contractions(text, contractions_dict):\n",
    "    words = text.split()\n",
    "    expanded_text = [contractions_dict.get(word, word) for word in words]\n",
    "    return ' '.join(expanded_text)\n",
    "\n",
    "\n",
    "df['Comments'] = df['Comments'].apply(lambda x: expand_contractions(x, contractions_dict))"
   ]
  },
  {
   "cell_type": "code",
   "execution_count": 70,
   "id": "05509b55",
   "metadata": {},
   "outputs": [
    {
     "data": {
      "text/html": [
       "<div>\n",
       "<style scoped>\n",
       "    .dataframe tbody tr th:only-of-type {\n",
       "        vertical-align: middle;\n",
       "    }\n",
       "\n",
       "    .dataframe tbody tr th {\n",
       "        vertical-align: top;\n",
       "    }\n",
       "\n",
       "    .dataframe thead th {\n",
       "        text-align: right;\n",
       "    }\n",
       "</style>\n",
       "<table border=\"1\" class=\"dataframe\">\n",
       "  <thead>\n",
       "    <tr style=\"text-align: right;\">\n",
       "      <th></th>\n",
       "      <th>Comments</th>\n",
       "      <th>Target</th>\n",
       "      <th>Comment_Length</th>\n",
       "    </tr>\n",
       "  </thead>\n",
       "  <tbody>\n",
       "    <tr>\n",
       "      <th>0</th>\n",
       "      <td>sleek fine good price</td>\n",
       "      <td>-1</td>\n",
       "      <td>41</td>\n",
       "    </tr>\n",
       "    <tr>\n",
       "      <th>1</th>\n",
       "      <td>good</td>\n",
       "      <td>-1</td>\n",
       "      <td>9</td>\n",
       "    </tr>\n",
       "    <tr>\n",
       "      <th>2</th>\n",
       "      <td>really smart phone</td>\n",
       "      <td>-1</td>\n",
       "      <td>25</td>\n",
       "    </tr>\n",
       "    <tr>\n",
       "      <th>3</th>\n",
       "      <td>nice phone</td>\n",
       "      <td>-1</td>\n",
       "      <td>10</td>\n",
       "    </tr>\n",
       "    <tr>\n",
       "      <th>4</th>\n",
       "      <td>nice gadget seriously enjoying phone</td>\n",
       "      <td>-1</td>\n",
       "      <td>41</td>\n",
       "    </tr>\n",
       "  </tbody>\n",
       "</table>\n",
       "</div>"
      ],
      "text/plain": [
       "                               Comments  Target  Comment_Length\n",
       "0                 sleek fine good price      -1              41\n",
       "1                                  good      -1               9\n",
       "2                    really smart phone      -1              25\n",
       "3                            nice phone      -1              10\n",
       "4  nice gadget seriously enjoying phone      -1              41"
      ]
     },
     "execution_count": 70,
     "metadata": {},
     "output_type": "execute_result"
    }
   ],
   "source": [
    "df.head()"
   ]
  },
  {
   "cell_type": "markdown",
   "id": "635b5ddb",
   "metadata": {},
   "source": [
    "# save the dataframe as csv file"
   ]
  },
  {
   "cell_type": "code",
   "execution_count": 72,
   "id": "521b50a4",
   "metadata": {},
   "outputs": [],
   "source": [
    "df.to_csv('final_data.csv',index=False)"
   ]
  },
  {
   "cell_type": "code",
   "execution_count": null,
   "id": "1c23925c",
   "metadata": {},
   "outputs": [],
   "source": []
  }
 ],
 "metadata": {
  "kernelspec": {
   "display_name": "Python 3 (ipykernel)",
   "language": "python",
   "name": "python3"
  },
  "language_info": {
   "codemirror_mode": {
    "name": "ipython",
    "version": 3
   },
   "file_extension": ".py",
   "mimetype": "text/x-python",
   "name": "python",
   "nbconvert_exporter": "python",
   "pygments_lexer": "ipython3",
   "version": "3.9.12"
  }
 },
 "nbformat": 4,
 "nbformat_minor": 5
}
